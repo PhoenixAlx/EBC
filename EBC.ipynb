{
 "cells": [
  {
   "cell_type": "markdown",
   "metadata": {},
   "source": [
    "Voy a realizar una simulación donde en una población de agentes estos interactuen entre si. En función de las estrategias que tenga cada uno recibirá unos pagos. Se hará en varias rondas. En cada ronda un agente al menos interactuará una vez con otro agente escogido al azar.\n",
    "\n",
    "Despues de unas cuantas rondas, un periodo T, las que tengan peor puntuación serán eliminadas. El umbral de puntuación se determina con el parámetro U.\n",
    "\n",
    "Los agentes eliminados serán sustituidos por otros asignandoles a los nuevos una estrategia de forma aleatoria siguiendo la distribución de las que han quedado vivas.\n",
    "\n",
    "Solo hay dos estrategias, colaborar (C) o no colaborar/competir (NC). Si los dos agentes que interactúan compiten uno se llevará 3 puntos y otro -3, el quien se elige al azar con probabilidad 50%. Si los dos colaboran ambos se llevan 1 punto. Si uno no colabora y el otro si, el que colabora se lleva 1 punto y el otro -1.\n",
    "\n",
    "Se trata de ver si la diversidad de estrategias converge y se estabiliza en un función de los parámetors. Más adelanta se podría ver si cambiando la matriz a una donde la competición fuese favorable se tiende a otra convergencia."
   ]
  },
  {
   "cell_type": "code",
   "execution_count": 5,
   "metadata": {},
   "outputs": [],
   "source": [
    "# -*- coding: utf-8 -*- \n",
    "import requests\n",
    "import io\n",
    "import operator\n",
    "import  csv\n",
    "import pandas as pd\n",
    "import numpy as np\n",
    "import matplotlib.pyplot as plt\n",
    "import matplotlib.cm as cm\n",
    "import plotly.plotly as py\n",
    "import cufflinks as cf\n",
    "from scipy import stats\n",
    "import random\n",
    "cf.set_config_file(offline=False, world_readable=True, theme='ggplot')\n",
    "%matplotlib inline"
   ]
  },
  {
   "cell_type": "markdown",
   "metadata": {},
   "source": [
    "Ahora definimos los parametros"
   ]
  },
  {
   "cell_type": "code",
   "execution_count": 125,
   "metadata": {},
   "outputs": [],
   "source": [
    "T=1\n",
    "U=0\n",
    "num_agentes=1000\n",
    "num_turnos=1000;\n",
    "estrategias=[\"C\",\"NC\"]\n",
    "matriz_pagos_C={\"C-C\":[1,1],\"NC-NC\":[3,-3],\"C-NC\":[1,-1],\"NC-C\":[-1,1]}\n",
    "agentes={}\n",
    "num_agentes_C=0\n",
    "num_agentes_NC=0\n",
    "for i in range(0,num_agentes):\n",
    "    agente={\"estrategia\":\"\",\"puntos\":0}\n",
    "    if (random.random()<0.01):\n",
    "            agente[\"estrategia\"]=\"C\";\n",
    "            num_agentes_C=num_agentes_C+1/num_agentes\n",
    "    else:\n",
    "            agente[\"estrategia\"]=\"NC\";\n",
    "            num_agentes_NC=num_agentes_NC+1/num_agentes\n",
    "    \n",
    "    agentes[i]=agente\n"
   ]
  },
  {
   "cell_type": "markdown",
   "metadata": {},
   "source": [
    "Ahora realizamos los turnos y en cada turno  primero interacionan, luego se eliminan y luego se añaden los nuevos agentes."
   ]
  },
  {
   "cell_type": "code",
   "execution_count": 127,
   "metadata": {},
   "outputs": [
    {
     "data": {
      "text/html": [
       "<div>\n",
       "<table border=\"1\" class=\"dataframe\">\n",
       "  <thead>\n",
       "    <tr style=\"text-align: right;\">\n",
       "      <th></th>\n",
       "      <th>C</th>\n",
       "      <th>NC</th>\n",
       "    </tr>\n",
       "    <tr>\n",
       "      <th>turno</th>\n",
       "      <th></th>\n",
       "      <th></th>\n",
       "    </tr>\n",
       "  </thead>\n",
       "  <tbody>\n",
       "    <tr>\n",
       "      <th>0</th>\n",
       "      <td>0.900000</td>\n",
       "      <td>99.100000</td>\n",
       "    </tr>\n",
       "    <tr>\n",
       "      <th>1</th>\n",
       "      <td>2.222222</td>\n",
       "      <td>97.777778</td>\n",
       "    </tr>\n",
       "    <tr>\n",
       "      <th>2</th>\n",
       "      <td>3.580563</td>\n",
       "      <td>96.419437</td>\n",
       "    </tr>\n",
       "    <tr>\n",
       "      <th>3</th>\n",
       "      <td>4.738155</td>\n",
       "      <td>95.261845</td>\n",
       "    </tr>\n",
       "    <tr>\n",
       "      <th>4</th>\n",
       "      <td>5.555556</td>\n",
       "      <td>94.444444</td>\n",
       "    </tr>\n",
       "  </tbody>\n",
       "</table>\n",
       "</div>"
      ],
      "text/plain": [
       "              C         NC\n",
       "turno                     \n",
       "0      0.900000  99.100000\n",
       "1      2.222222  97.777778\n",
       "2      3.580563  96.419437\n",
       "3      4.738155  95.261845\n",
       "4      5.555556  94.444444"
      ]
     },
     "execution_count": 127,
     "metadata": {},
     "output_type": "execute_result"
    }
   ],
   "source": [
    "data_C={\"turno\":[0],\"C\":[num_agentes_C*100],\"NC\":[num_agentes_NC*100],\"puntos\":0}\n",
    "for t in range(1,num_turnos+1):\n",
    "    #interaccionan\n",
    "    for a in agentes.keys():\n",
    "        agente_1=agentes[a]\n",
    "        list_agentes=list(agentes.keys())\n",
    "        list_agentes.remove(a);\n",
    "        num_agente_2=random.choice(list_agentes);\n",
    "        agente_2=agentes[num_agente_2]\n",
    "        #asignamos puntos\n",
    "        interaccion=agente_1[\"estrategia\"]+\"-\"+agente_2[\"estrategia\"];\n",
    "        pagos=matriz_pagos_C[interaccion];\n",
    "        if (interaccion==\"NC-NC\"):\n",
    "            random.shuffle(pagos)\n",
    "        agente_1[\"puntos\"]=agente_1[\"puntos\"]+pagos[0]\n",
    "        agente_2[\"puntos\"]=agente_2[\"puntos\"]+pagos[1]\n",
    "    #buscamos los que no seran eliminados\n",
    "    num_agentes_supervi=0;\n",
    "    for a in agentes.keys():\n",
    "        if (agentes[a][\"puntos\"]>U):\n",
    "            num_agentes_supervi=num_agentes_supervi+1;\n",
    "    #vemos el porcentaje de cada estrategia superviviente\n",
    "    estrategias_percent={\"C\":0,\"NC\":0}\n",
    "    for a in agentes.keys():\n",
    "        if (agentes[a][\"puntos\"]>U):\n",
    "            estrategias_percent[agentes[a][\"estrategia\"]]=estrategias_percent[agentes[a][\"estrategia\"]]+1/num_agentes_supervi\n",
    "    #eliminamos las que estan por debajo o igual al umbral y añadimos nuevas en su lugar\n",
    "    eliminados=0;\n",
    "    eliminados_C=0\n",
    "    eliminados_NC=0\n",
    "    for a in agentes.keys():\n",
    "        if (agentes[a][\"puntos\"]<=U):\n",
    "            eliminados=eliminados+1/num_agentes;\n",
    "            if (agentes[a][\"estrategia\"]==\"C\"):\n",
    "                eliminados_C=eliminados_C+1/num_agentes\n",
    "            elif (agentes[a][\"estrategia\"]==\"NC\"):\n",
    "                eliminados_NC=eliminados_NC+1/num_agentes\n",
    "            #estrategias_percent[\"C\"]\n",
    "            if (random.random()<0.01):\n",
    "                agentes[a][\"estrategia\"]=\"C\";\n",
    "            else:\n",
    "                agentes[a][\"estrategia\"]=\"NC\";\n",
    "        agentes[a][\"puntos\"]=0;\n",
    "    data_C[\"turno\"].append(t)\n",
    "    data_C[\"C\"].append(estrategias_percent[\"C\"]*100)\n",
    "    data_C[\"NC\"].append(estrategias_percent[\"NC\"]*100)\n",
    "df = pd.DataFrame(data)\n",
    "df=df.set_index('turno')\n",
    "df.head()"
   ]
  },
  {
   "cell_type": "code",
   "execution_count": 126,
   "metadata": {},
   "outputs": [
    {
     "data": {
      "image/png": "[encoded data removed]",
      "text/plain": [
       "<matplotlib.figure.Figure at 0x7f5d592014a8>"
      ]
     },
     "metadata": {},
     "output_type": "display_data"
    }
   ],
   "source": [
    "df.plot()\n",
    "pass"
   ]
  }
 ],
 "metadata": {
  "kernelspec": {
   "display_name": "Python 3",
   "language": "python",
   "name": "python3"
  },
  "language_info": {
   "codemirror_mode": {
    "name": "ipython",
    "version": 3
   },
   "file_extension": ".py",
   "mimetype": "text/x-python",
   "name": "python",
   "nbconvert_exporter": "python",
   "pygments_lexer": "ipython3",
   "version": "3.6.0"
  }
 },
 "nbformat": 4,
 "nbformat_minor": 2
}
